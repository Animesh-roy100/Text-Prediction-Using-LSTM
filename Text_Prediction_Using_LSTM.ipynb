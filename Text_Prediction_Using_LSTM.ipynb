{
  "nbformat": 4,
  "nbformat_minor": 0,
  "metadata": {
    "colab": {
      "provenance": [],
      "authorship_tag": "ABX9TyMuYTNLrPZIfsmVO11z4HmC",
      "include_colab_link": true
    },
    "kernelspec": {
      "name": "python3",
      "display_name": "Python 3"
    },
    "language_info": {
      "name": "python"
    }
  },
  "cells": [
    {
      "cell_type": "markdown",
      "metadata": {
        "id": "view-in-github",
        "colab_type": "text"
      },
      "source": [
        "<a href=\"https://colab.research.google.com/github/Animesh-roy100/Text-Prediction-Using-LSTM/blob/main/Text_Prediction_Using_LSTM.ipynb\" target=\"_parent\"><img src=\"https://colab.research.google.com/assets/colab-badge.svg\" alt=\"Open In Colab\"/></a>"
      ]
    },
    {
      "cell_type": "code",
      "execution_count": null,
      "metadata": {
        "id": "bCpJqzKyYTTa"
      },
      "outputs": [],
      "source": [
        "from keras.models import Sequential\n",
        "from keras.layers import Dense, Dropout, LSTM\n",
        "from tensorflow.keras.optimizers import RMSprop\n",
        "import numpy as np\n",
        "import random\n",
        "import sys"
      ]
    },
    {
      "cell_type": "code",
      "source": [
        "#Load TEXT\n",
        "#Save notepad as UTF-8 (Select from dropdown during saving)\n",
        "filename = \"/content/the_jungle_book.txt\"\n",
        "raw_text = open(filename, 'r', encoding='utf-8').read()\n",
        "raw_text = raw_text.lower()\n",
        "#Print first 1000 words\n",
        "print(raw_text[0:1000])"
      ],
      "metadata": {
        "colab": {
          "base_uri": "https://localhost:8080/"
        },
        "id": "CoLTwengY3Cr",
        "outputId": "0c7eb906-d593-4518-bd40-83dafeae1967"
      },
      "execution_count": null,
      "outputs": [
        {
          "output_type": "stream",
          "name": "stdout",
          "text": [
            "the jungle book\n",
            "\n",
            "by rudyard kipling\n",
            "\n",
            "\n",
            "\n",
            "contents\n",
            "\n",
            "     mowgli’s brothers\n",
            "     hunting-song of the seeonee pack\n",
            "     kaa’s hunting\n",
            "     road-song of the bandar-log\n",
            "     “tiger! tiger!”\n",
            "      mowgli’s song\n",
            "     the white seal\n",
            "     lukannon\n",
            "     “rikki-tikki-tavi”\n",
            "      darzee’s chant\n",
            "     toomai of the elephants\n",
            "     shiv and the grasshopper\n",
            "     her majesty’s servants\n",
            "     parade song of the camp animals\n",
            "\n",
            "\n",
            "\n",
            "\n",
            "mowgli’s brothers\n",
            "\n",
            "     now rann the kite brings home the night\n",
            "        that mang the bat sets free--\n",
            "     the herds are shut in byre and hut\n",
            "        for loosed till dawn are we.\n",
            "     this is the hour of pride and power,\n",
            "        talon and tush and claw.\n",
            "     oh, hear the call!--good hunting all\n",
            "        that keep the jungle law!\n",
            "     night-song in the jungle\n",
            "\n",
            "it was seven o’clock of a very warm evening in the seeonee hills when\n",
            "father wolf woke up from his day’s rest, scratched himself, yawned, and\n",
            "spread out his paws one after the other to get rid of the sleepy feeling\n",
            "in their tips.\n"
          ]
        }
      ]
    },
    {
      "cell_type": "code",
      "source": [
        "#Clean text\n",
        "#Remove numbers\n",
        "raw_text = ''.join(c for c in raw_text if not c.isdigit())"
      ],
      "metadata": {
        "id": "89-fwsUNeLnZ"
      },
      "execution_count": null,
      "outputs": []
    },
    {
      "cell_type": "code",
      "source": [
        "#How many total characters do we have in our training text?\n",
        "chars = sorted(list(set(raw_text))) #List of every character\n",
        "print(chars)"
      ],
      "metadata": {
        "colab": {
          "base_uri": "https://localhost:8080/"
        },
        "id": "2us-8JYGe3D-",
        "outputId": "8694d96e-9217-4724-d854-d1989dce2133"
      },
      "execution_count": null,
      "outputs": [
        {
          "output_type": "stream",
          "name": "stdout",
          "text": [
            "['\\n', ' ', '!', '$', '%', '(', ')', '*', ',', '-', '.', '/', ':', ';', '?', '@', '[', ']', '`', 'a', 'b', 'c', 'd', 'e', 'f', 'g', 'h', 'i', 'j', 'k', 'l', 'm', 'n', 'o', 'p', 'q', 'r', 's', 't', 'u', 'v', 'w', 'x', 'y', 'z', '‘', '’', '“', '”']\n"
          ]
        }
      ]
    },
    {
      "cell_type": "code",
      "source": [
        "#Character sequences must be encoded as integers.\n",
        "#Each unique character will be assigned an integer value.\n",
        "#Create a dictionary of characters mapped to integer values.\n",
        "char_to_int = dict((c, i) for i, c in enumerate(chars))\n",
        "print(char_to_int)"
      ],
      "metadata": {
        "colab": {
          "base_uri": "https://localhost:8080/"
        },
        "id": "iHoDZIzofS9v",
        "outputId": "05fc6245-c99c-4922-8ed2-211fd3cbc148"
      },
      "execution_count": null,
      "outputs": [
        {
          "output_type": "stream",
          "name": "stdout",
          "text": [
            "{'\\n': 0, ' ': 1, '!': 2, '$': 3, '%': 4, '(': 5, ')': 6, '*': 7, ',': 8, '-': 9, '.': 10, '/': 11, ':': 12, ';': 13, '?': 14, '@': 15, '[': 16, ']': 17, '`': 18, 'a': 19, 'b': 20, 'c': 21, 'd': 22, 'e': 23, 'f': 24, 'g': 25, 'h': 26, 'i': 27, 'j': 28, 'k': 29, 'l': 30, 'm': 31, 'n': 32, 'o': 33, 'p': 34, 'q': 35, 'r': 36, 's': 37, 't': 38, 'u': 39, 'v': 40, 'w': 41, 'x': 42, 'y': 43, 'z': 44, '‘': 45, '’': 46, '“': 47, '”': 48}\n"
          ]
        }
      ]
    },
    {
      "cell_type": "code",
      "source": [
        "#Do the reverse so we can print our predictions in characters and not interges\n",
        "int_to_char = dict((i, c) for i, c in enumerate(chars))\n",
        "print(int_to_char)"
      ],
      "metadata": {
        "colab": {
          "base_uri": "https://localhost:8080/"
        },
        "id": "_qWsJb3Xf3ZQ",
        "outputId": "b8cf90ba-713c-4335-f153-ecbf85370318"
      },
      "execution_count": null,
      "outputs": [
        {
          "output_type": "stream",
          "name": "stdout",
          "text": [
            "{0: '\\n', 1: ' ', 2: '!', 3: '$', 4: '%', 5: '(', 6: ')', 7: '*', 8: ',', 9: '-', 10: '.', 11: '/', 12: ':', 13: ';', 14: '?', 15: '@', 16: '[', 17: ']', 18: '`', 19: 'a', 20: 'b', 21: 'c', 22: 'd', 23: 'e', 24: 'f', 25: 'g', 26: 'h', 27: 'i', 28: 'j', 29: 'k', 30: 'l', 31: 'm', 32: 'n', 33: 'o', 34: 'p', 35: 'q', 36: 'r', 37: 's', 38: 't', 39: 'u', 40: 'v', 41: 'w', 42: 'x', 43: 'y', 44: 'z', 45: '‘', 46: '’', 47: '“', 48: '”'}\n"
          ]
        }
      ]
    },
    {
      "cell_type": "code",
      "source": [
        "#summarize the data\n",
        "n_chars = len(raw_text)\n",
        "n_vocab = len(chars)\n",
        "print(\"Total Characters in the text; corpus length: \", n_chars)\n",
        "print(\"Total Vocab: \", n_vocab)"
      ],
      "metadata": {
        "colab": {
          "base_uri": "https://localhost:8080/"
        },
        "id": "2kypXFs8gKPf",
        "outputId": "71a10157-c5c0-462f-f52c-9c715b9111a3"
      },
      "execution_count": null,
      "outputs": [
        {
          "output_type": "stream",
          "name": "stdout",
          "text": [
            "Total Characters in the text; corpus length:  292267\n",
            "Total Vocab:  49\n"
          ]
        }
      ]
    },
    {
      "cell_type": "code",
      "source": [
        "seq_length = 60 \n",
        "step = 10 \n",
        "sentences = [] \n",
        "next_chars = []\n",
        "for i in range(0, n_chars - seq_length, step):\n",
        "  sentences.append(raw_text[i: i+seq_length])\n",
        "  next_chars.append(raw_text[i + seq_length])\n",
        "n_patterns = len(sentences)\n",
        "print('Number of sequences:', n_patterns)\n"
      ],
      "metadata": {
        "colab": {
          "base_uri": "https://localhost:8080/"
        },
        "id": "zD0QjNMVgze3",
        "outputId": "ad81ba98-46b8-4cda-c6ca-7ee54a3b5d9a"
      },
      "execution_count": null,
      "outputs": [
        {
          "output_type": "stream",
          "name": "stdout",
          "text": [
            "Number of sequences: 29221\n"
          ]
        }
      ]
    },
    {
      "cell_type": "code",
      "source": [
        "#Vectorization\n",
        "x = np.zeros((len(sentences), seq_length, n_vocab), dtype=np.bool)\n",
        "y = np.zeros((len(sentences), n_vocab), dtype=np.bool)\n",
        "for i, sentence in enumerate(sentences):\n",
        "  for t, char in enumerate(sentence):\n",
        "    x[i, t, char_to_int[char]] = 1\n",
        "  y[i, char_to_int[next_chars[i]]] = 1\n",
        "\n",
        "print(x.shape)\n",
        "print(y.shape)"
      ],
      "metadata": {
        "id": "HsPhxsN9jz6F",
        "colab": {
          "base_uri": "https://localhost:8080/"
        },
        "outputId": "8ad77f4b-121b-4bb5-f1ab-adf5e09bcbac"
      },
      "execution_count": null,
      "outputs": [
        {
          "output_type": "stream",
          "name": "stderr",
          "text": [
            "/usr/local/lib/python3.7/dist-packages/ipykernel_launcher.py:2: DeprecationWarning: `np.bool` is a deprecated alias for the builtin `bool`. To silence this warning, use `bool` by itself. Doing this will not modify any behavior and is safe. If you specifically wanted the numpy scalar type, use `np.bool_` here.\n",
            "Deprecated in NumPy 1.20; for more details and guidance: https://numpy.org/devdocs/release/1.20.0-notes.html#deprecations\n",
            "  \n",
            "/usr/local/lib/python3.7/dist-packages/ipykernel_launcher.py:3: DeprecationWarning: `np.bool` is a deprecated alias for the builtin `bool`. To silence this warning, use `bool` by itself. Doing this will not modify any behavior and is safe. If you specifically wanted the numpy scalar type, use `np.bool_` here.\n",
            "Deprecated in NumPy 1.20; for more details and guidance: https://numpy.org/devdocs/release/1.20.0-notes.html#deprecations\n",
            "  This is separate from the ipykernel package so we can avoid doing imports until\n"
          ]
        },
        {
          "output_type": "stream",
          "name": "stdout",
          "text": [
            "(29221, 60, 49)\n",
            "(29221, 49)\n"
          ]
        }
      ]
    },
    {
      "cell_type": "code",
      "source": [
        "print(y[0:10])"
      ],
      "metadata": {
        "colab": {
          "base_uri": "https://localhost:8080/"
        },
        "id": "Yte06YfqUWkN",
        "outputId": "6bc386ef-b221-436d-94e6-8075ee75af05"
      },
      "execution_count": null,
      "outputs": [
        {
          "output_type": "stream",
          "name": "stdout",
          "text": [
            "[[False False False False False False False False False False False False\n",
            "  False False False False False False False False False False False False\n",
            "  False False False False False False False False False False False False\n",
            "  False False False False False False False False False False  True False\n",
            "  False]\n",
            " [False False False False False False False False False False False False\n",
            "  False False False False False False False False False False False False\n",
            "  False False False False False False False False False False False False\n",
            "  False  True False False False False False False False False False False\n",
            "  False]\n",
            " [False False False False False False False False False False False False\n",
            "  False False False False False False False False False False False False\n",
            "  False False False False False False False False False False False False\n",
            "  False False  True False False False False False False False False False\n",
            "  False]\n",
            " [False False False False False False False False False False False False\n",
            "  False False False False False False False False False False False False\n",
            "  False False False False False False False False False  True False False\n",
            "  False False False False False False False False False False False False\n",
            "  False]\n",
            " [False False False False False False False False False False False False\n",
            "  False False False False False False False False False False False False\n",
            "  False False False False False False False False False  True False False\n",
            "  False False False False False False False False False False False False\n",
            "  False]\n",
            " [False  True False False False False False False False False False False\n",
            "  False False False False False False False False False False False False\n",
            "  False False False False False False False False False False False False\n",
            "  False False False False False False False False False False False False\n",
            "  False]\n",
            " [False  True False False False False False False False False False False\n",
            "  False False False False False False False False False False False False\n",
            "  False False False False False False False False False False False False\n",
            "  False False False False False False False False False False False False\n",
            "  False]\n",
            " [False  True False False False False False False False False False False\n",
            "  False False False False False False False False False False False False\n",
            "  False False False False False False False False False False False False\n",
            "  False False False False False False False False False False False False\n",
            "  False]\n",
            " [False False False False False False False False False False False False\n",
            "  False False False False False False False False False False False False\n",
            "  False False False False False False False False False  True False False\n",
            "  False False False False False False False False False False False False\n",
            "  False]\n",
            " [False  True False False False False False False False False False False\n",
            "  False False False False False False False False False False False False\n",
            "  False False False False False False False False False False False False\n",
            "  False False False False False False False False False False False False\n",
            "  False]]\n"
          ]
        }
      ]
    },
    {
      "cell_type": "code",
      "source": [
        "#Build the model: a single LSTM\n",
        "model = Sequential()\n",
        "model.add(LSTM(128, input_shape=(seq_length, n_vocab)))\n",
        "model.add(Dense(n_vocab, activation='softmax'))\n",
        "\n",
        "optimizer = RMSprop(lr=0.01)\n",
        "model.compile(loss='categorical_crossentropy', optimizer=optimizer)\n",
        "model.summary()"
      ],
      "metadata": {
        "colab": {
          "base_uri": "https://localhost:8080/"
        },
        "id": "GSRtVDMVUif3",
        "outputId": "5ff231b1-f468-4f3b-fe68-c3f341e85001"
      },
      "execution_count": null,
      "outputs": [
        {
          "output_type": "stream",
          "name": "stdout",
          "text": [
            "Model: \"sequential\"\n",
            "_________________________________________________________________\n",
            " Layer (type)                Output Shape              Param #   \n",
            "=================================================================\n",
            " lstm (LSTM)                 (None, 128)               91136     \n",
            "                                                                 \n",
            " dense (Dense)               (None, 49)                6321      \n",
            "                                                                 \n",
            "=================================================================\n",
            "Total params: 97,457\n",
            "Trainable params: 97,457\n",
            "Non-trainable params: 0\n",
            "_________________________________________________________________\n"
          ]
        },
        {
          "output_type": "stream",
          "name": "stderr",
          "text": [
            "/usr/local/lib/python3.7/dist-packages/keras/optimizer_v2/rmsprop.py:130: UserWarning: The `lr` argument is deprecated, use `learning_rate` instead.\n",
            "  super(RMSprop, self).__init__(name, **kwargs)\n"
          ]
        }
      ]
    },
    {
      "cell_type": "code",
      "source": [
        "from keras.callbacks import ModelCheckpoint"
      ],
      "metadata": {
        "id": "VVn_B_SaV_HP"
      },
      "execution_count": null,
      "outputs": []
    },
    {
      "cell_type": "code",
      "source": [
        "#Define the checkpoint\n",
        "filepath=\"saved_weights/saved_weights-{epoch:02d}-{loss:.4f}.hdf5\"\n",
        "checkpoint = ModelCheckpoint(filepath, monitor='loss', verbose=1, save_best_only=True, mode='min')\n",
        "\n",
        "callbacks_list = [checkpoint]"
      ],
      "metadata": {
        "id": "fG7utOZkWbYg"
      },
      "execution_count": null,
      "outputs": []
    },
    {
      "cell_type": "code",
      "source": [
        "#Fit the model\n",
        "history = model.fit(x, y, batch_size=128, epochs=50, callbacks=callbacks_list)\n",
        "model.save('my_saved_weights_jungle_book_50epochs.h5')"
      ],
      "metadata": {
        "colab": {
          "base_uri": "https://localhost:8080/"
        },
        "id": "4PDsVR--WwSg",
        "outputId": "65371c14-48ab-4077-cf8e-be90687f3112"
      },
      "execution_count": null,
      "outputs": [
        {
          "output_type": "stream",
          "name": "stdout",
          "text": [
            "Epoch 1/50\n",
            "229/229 [==============================] - ETA: 0s - loss: 2.5084\n",
            "Epoch 1: loss improved from inf to 2.50838, saving model to saved_weights/saved_weights-01-2.5084.hdf5\n",
            "229/229 [==============================] - 49s 203ms/step - loss: 2.5084\n",
            "Epoch 2/50\n",
            "229/229 [==============================] - ETA: 0s - loss: 2.0377\n",
            "Epoch 2: loss improved from 2.50838 to 2.03775, saving model to saved_weights/saved_weights-02-2.0377.hdf5\n",
            "229/229 [==============================] - 62s 269ms/step - loss: 2.0377\n",
            "Epoch 3/50\n",
            "229/229 [==============================] - ETA: 0s - loss: 1.8572\n",
            "Epoch 3: loss improved from 2.03775 to 1.85722, saving model to saved_weights/saved_weights-03-1.8572.hdf5\n",
            "229/229 [==============================] - 52s 226ms/step - loss: 1.8572\n",
            "Epoch 4/50\n",
            "229/229 [==============================] - ETA: 0s - loss: 1.7104\n",
            "Epoch 4: loss improved from 1.85722 to 1.71036, saving model to saved_weights/saved_weights-04-1.7104.hdf5\n",
            "229/229 [==============================] - 39s 171ms/step - loss: 1.7104\n",
            "Epoch 5/50\n",
            "229/229 [==============================] - ETA: 0s - loss: 1.5946\n",
            "Epoch 5: loss improved from 1.71036 to 1.59461, saving model to saved_weights/saved_weights-05-1.5946.hdf5\n",
            "229/229 [==============================] - 47s 204ms/step - loss: 1.5946\n",
            "Epoch 6/50\n",
            "229/229 [==============================] - ETA: 0s - loss: 1.4892\n",
            "Epoch 6: loss improved from 1.59461 to 1.48921, saving model to saved_weights/saved_weights-06-1.4892.hdf5\n",
            "229/229 [==============================] - 44s 192ms/step - loss: 1.4892\n",
            "Epoch 7/50\n",
            "229/229 [==============================] - ETA: 0s - loss: 1.3882\n",
            "Epoch 7: loss improved from 1.48921 to 1.38821, saving model to saved_weights/saved_weights-07-1.3882.hdf5\n",
            "229/229 [==============================] - 56s 244ms/step - loss: 1.3882\n",
            "Epoch 8/50\n",
            "229/229 [==============================] - ETA: 0s - loss: 1.3039\n",
            "Epoch 8: loss improved from 1.38821 to 1.30385, saving model to saved_weights/saved_weights-08-1.3039.hdf5\n",
            "229/229 [==============================] - 50s 218ms/step - loss: 1.3039\n",
            "Epoch 9/50\n",
            "229/229 [==============================] - ETA: 0s - loss: 1.2373\n",
            "Epoch 9: loss improved from 1.30385 to 1.23732, saving model to saved_weights/saved_weights-09-1.2373.hdf5\n",
            "229/229 [==============================] - 39s 170ms/step - loss: 1.2373\n",
            "Epoch 10/50\n",
            "229/229 [==============================] - ETA: 0s - loss: 1.1802\n",
            "Epoch 10: loss improved from 1.23732 to 1.18024, saving model to saved_weights/saved_weights-10-1.1802.hdf5\n",
            "229/229 [==============================] - 57s 247ms/step - loss: 1.1802\n",
            "Epoch 11/50\n",
            "229/229 [==============================] - ETA: 0s - loss: 1.1312\n",
            "Epoch 11: loss improved from 1.18024 to 1.13121, saving model to saved_weights/saved_weights-11-1.1312.hdf5\n",
            "229/229 [==============================] - 41s 178ms/step - loss: 1.1312\n",
            "Epoch 12/50\n",
            "229/229 [==============================] - ETA: 0s - loss: 1.0918\n",
            "Epoch 12: loss improved from 1.13121 to 1.09181, saving model to saved_weights/saved_weights-12-1.0918.hdf5\n",
            "229/229 [==============================] - 38s 168ms/step - loss: 1.0918\n",
            "Epoch 13/50\n",
            "229/229 [==============================] - ETA: 0s - loss: 1.0558\n",
            "Epoch 13: loss improved from 1.09181 to 1.05580, saving model to saved_weights/saved_weights-13-1.0558.hdf5\n",
            "229/229 [==============================] - 40s 176ms/step - loss: 1.0558\n",
            "Epoch 14/50\n",
            "229/229 [==============================] - ETA: 0s - loss: 1.0311\n",
            "Epoch 14: loss improved from 1.05580 to 1.03115, saving model to saved_weights/saved_weights-14-1.0311.hdf5\n",
            "229/229 [==============================] - 40s 174ms/step - loss: 1.0311\n",
            "Epoch 15/50\n",
            "229/229 [==============================] - ETA: 0s - loss: 1.0089\n",
            "Epoch 15: loss improved from 1.03115 to 1.00894, saving model to saved_weights/saved_weights-15-1.0089.hdf5\n",
            "229/229 [==============================] - 39s 168ms/step - loss: 1.0089\n",
            "Epoch 16/50\n",
            "229/229 [==============================] - ETA: 0s - loss: 0.9835\n",
            "Epoch 16: loss improved from 1.00894 to 0.98351, saving model to saved_weights/saved_weights-16-0.9835.hdf5\n",
            "229/229 [==============================] - 39s 169ms/step - loss: 0.9835\n",
            "Epoch 17/50\n",
            "229/229 [==============================] - ETA: 0s - loss: 0.9686\n",
            "Epoch 17: loss improved from 0.98351 to 0.96863, saving model to saved_weights/saved_weights-17-0.9686.hdf5\n",
            "229/229 [==============================] - 40s 174ms/step - loss: 0.9686\n",
            "Epoch 18/50\n",
            "229/229 [==============================] - ETA: 0s - loss: 0.9494\n",
            "Epoch 18: loss improved from 0.96863 to 0.94942, saving model to saved_weights/saved_weights-18-0.9494.hdf5\n",
            "229/229 [==============================] - 39s 169ms/step - loss: 0.9494\n",
            "Epoch 19/50\n",
            "229/229 [==============================] - ETA: 0s - loss: 0.9359\n",
            "Epoch 19: loss improved from 0.94942 to 0.93588, saving model to saved_weights/saved_weights-19-0.9359.hdf5\n",
            "229/229 [==============================] - 39s 168ms/step - loss: 0.9359\n",
            "Epoch 20/50\n",
            "229/229 [==============================] - ETA: 0s - loss: 0.9232\n",
            "Epoch 20: loss improved from 0.93588 to 0.92322, saving model to saved_weights/saved_weights-20-0.9232.hdf5\n",
            "229/229 [==============================] - 39s 169ms/step - loss: 0.9232\n",
            "Epoch 21/50\n",
            "229/229 [==============================] - ETA: 0s - loss: 0.9058\n",
            "Epoch 21: loss improved from 0.92322 to 0.90577, saving model to saved_weights/saved_weights-21-0.9058.hdf5\n",
            "229/229 [==============================] - 40s 174ms/step - loss: 0.9058\n",
            "Epoch 22/50\n",
            "229/229 [==============================] - ETA: 0s - loss: 0.8952\n",
            "Epoch 22: loss improved from 0.90577 to 0.89517, saving model to saved_weights/saved_weights-22-0.8952.hdf5\n",
            "229/229 [==============================] - 39s 169ms/step - loss: 0.8952\n",
            "Epoch 23/50\n",
            "229/229 [==============================] - ETA: 0s - loss: 0.8813\n",
            "Epoch 23: loss improved from 0.89517 to 0.88129, saving model to saved_weights/saved_weights-23-0.8813.hdf5\n",
            "229/229 [==============================] - 39s 169ms/step - loss: 0.8813\n",
            "Epoch 24/50\n",
            "229/229 [==============================] - ETA: 0s - loss: 0.8715\n",
            "Epoch 24: loss improved from 0.88129 to 0.87149, saving model to saved_weights/saved_weights-24-0.8715.hdf5\n",
            "229/229 [==============================] - 39s 169ms/step - loss: 0.8715\n",
            "Epoch 25/50\n",
            "229/229 [==============================] - ETA: 0s - loss: 0.8582\n",
            "Epoch 25: loss improved from 0.87149 to 0.85824, saving model to saved_weights/saved_weights-25-0.8582.hdf5\n",
            "229/229 [==============================] - 40s 175ms/step - loss: 0.8582\n",
            "Epoch 26/50\n",
            "229/229 [==============================] - ETA: 0s - loss: 0.8472\n",
            "Epoch 26: loss improved from 0.85824 to 0.84715, saving model to saved_weights/saved_weights-26-0.8472.hdf5\n",
            "229/229 [==============================] - 39s 169ms/step - loss: 0.8472\n",
            "Epoch 27/50\n",
            "229/229 [==============================] - ETA: 0s - loss: 0.8374\n",
            "Epoch 27: loss improved from 0.84715 to 0.83741, saving model to saved_weights/saved_weights-27-0.8374.hdf5\n",
            "229/229 [==============================] - 39s 169ms/step - loss: 0.8374\n",
            "Epoch 28/50\n",
            "229/229 [==============================] - ETA: 0s - loss: 0.8288\n",
            "Epoch 28: loss improved from 0.83741 to 0.82879, saving model to saved_weights/saved_weights-28-0.8288.hdf5\n",
            "229/229 [==============================] - 39s 168ms/step - loss: 0.8288\n",
            "Epoch 29/50\n",
            "229/229 [==============================] - ETA: 0s - loss: 0.8116\n",
            "Epoch 29: loss improved from 0.82879 to 0.81162, saving model to saved_weights/saved_weights-29-0.8116.hdf5\n",
            "229/229 [==============================] - 40s 173ms/step - loss: 0.8116\n",
            "Epoch 30/50\n",
            "229/229 [==============================] - ETA: 0s - loss: 0.8084\n",
            "Epoch 30: loss improved from 0.81162 to 0.80840, saving model to saved_weights/saved_weights-30-0.8084.hdf5\n",
            "229/229 [==============================] - 39s 169ms/step - loss: 0.8084\n",
            "Epoch 31/50\n",
            "229/229 [==============================] - ETA: 0s - loss: 0.8059\n",
            "Epoch 31: loss improved from 0.80840 to 0.80594, saving model to saved_weights/saved_weights-31-0.8059.hdf5\n",
            "229/229 [==============================] - 39s 168ms/step - loss: 0.8059\n",
            "Epoch 32/50\n",
            "229/229 [==============================] - ETA: 0s - loss: 0.7843\n",
            "Epoch 32: loss improved from 0.80594 to 0.78430, saving model to saved_weights/saved_weights-32-0.7843.hdf5\n",
            "229/229 [==============================] - 39s 169ms/step - loss: 0.7843\n",
            "Epoch 33/50\n",
            "229/229 [==============================] - ETA: 0s - loss: 0.7754\n",
            "Epoch 33: loss improved from 0.78430 to 0.77543, saving model to saved_weights/saved_weights-33-0.7754.hdf5\n",
            "229/229 [==============================] - 40s 175ms/step - loss: 0.7754\n",
            "Epoch 34/50\n",
            "229/229 [==============================] - ETA: 0s - loss: 0.7690\n",
            "Epoch 34: loss improved from 0.77543 to 0.76902, saving model to saved_weights/saved_weights-34-0.7690.hdf5\n",
            "229/229 [==============================] - 39s 170ms/step - loss: 0.7690\n",
            "Epoch 35/50\n",
            "229/229 [==============================] - ETA: 0s - loss: 0.7544\n",
            "Epoch 35: loss improved from 0.76902 to 0.75437, saving model to saved_weights/saved_weights-35-0.7544.hdf5\n",
            "229/229 [==============================] - 39s 168ms/step - loss: 0.7544\n",
            "Epoch 36/50\n",
            "229/229 [==============================] - ETA: 0s - loss: 0.7545\n",
            "Epoch 36: loss did not improve from 0.75437\n",
            "229/229 [==============================] - 39s 169ms/step - loss: 0.7545\n",
            "Epoch 37/50\n",
            "229/229 [==============================] - ETA: 0s - loss: 0.7396\n",
            "Epoch 37: loss improved from 0.75437 to 0.73960, saving model to saved_weights/saved_weights-37-0.7396.hdf5\n",
            "229/229 [==============================] - 40s 174ms/step - loss: 0.7396\n",
            "Epoch 38/50\n",
            "229/229 [==============================] - ETA: 0s - loss: 0.7426\n",
            "Epoch 38: loss did not improve from 0.73960\n",
            "229/229 [==============================] - 39s 169ms/step - loss: 0.7426\n",
            "Epoch 39/50\n",
            "229/229 [==============================] - ETA: 0s - loss: 0.7306\n",
            "Epoch 39: loss improved from 0.73960 to 0.73061, saving model to saved_weights/saved_weights-39-0.7306.hdf5\n",
            "229/229 [==============================] - 39s 169ms/step - loss: 0.7306\n",
            "Epoch 40/50\n",
            "229/229 [==============================] - ETA: 0s - loss: 0.7222\n",
            "Epoch 40: loss improved from 0.73061 to 0.72219, saving model to saved_weights/saved_weights-40-0.7222.hdf5\n",
            "229/229 [==============================] - 39s 169ms/step - loss: 0.7222\n",
            "Epoch 41/50\n",
            "229/229 [==============================] - ETA: 0s - loss: 0.7139\n",
            "Epoch 41: loss improved from 0.72219 to 0.71390, saving model to saved_weights/saved_weights-41-0.7139.hdf5\n",
            "229/229 [==============================] - 40s 174ms/step - loss: 0.7139\n",
            "Epoch 42/50\n",
            "229/229 [==============================] - ETA: 0s - loss: 0.7005\n",
            "Epoch 42: loss improved from 0.71390 to 0.70053, saving model to saved_weights/saved_weights-42-0.7005.hdf5\n",
            "229/229 [==============================] - 39s 170ms/step - loss: 0.7005\n",
            "Epoch 43/50\n",
            "229/229 [==============================] - ETA: 0s - loss: 0.6909\n",
            "Epoch 43: loss improved from 0.70053 to 0.69092, saving model to saved_weights/saved_weights-43-0.6909.hdf5\n",
            "229/229 [==============================] - 39s 170ms/step - loss: 0.6909\n",
            "Epoch 44/50\n",
            "229/229 [==============================] - ETA: 0s - loss: 0.6891\n",
            "Epoch 44: loss improved from 0.69092 to 0.68913, saving model to saved_weights/saved_weights-44-0.6891.hdf5\n",
            "229/229 [==============================] - 39s 169ms/step - loss: 0.6891\n",
            "Epoch 45/50\n",
            "229/229 [==============================] - ETA: 0s - loss: 0.6754\n",
            "Epoch 45: loss improved from 0.68913 to 0.67537, saving model to saved_weights/saved_weights-45-0.6754.hdf5\n",
            "229/229 [==============================] - 40s 175ms/step - loss: 0.6754\n",
            "Epoch 46/50\n",
            "229/229 [==============================] - ETA: 0s - loss: 0.6663\n",
            "Epoch 46: loss improved from 0.67537 to 0.66625, saving model to saved_weights/saved_weights-46-0.6663.hdf5\n",
            "229/229 [==============================] - 39s 170ms/step - loss: 0.6663\n",
            "Epoch 47/50\n",
            "229/229 [==============================] - ETA: 0s - loss: 0.6632\n",
            "Epoch 47: loss improved from 0.66625 to 0.66321, saving model to saved_weights/saved_weights-47-0.6632.hdf5\n",
            "229/229 [==============================] - 39s 169ms/step - loss: 0.6632\n",
            "Epoch 48/50\n",
            "229/229 [==============================] - ETA: 0s - loss: 0.6640\n",
            "Epoch 48: loss did not improve from 0.66321\n",
            "229/229 [==============================] - 39s 170ms/step - loss: 0.6640\n",
            "Epoch 49/50\n",
            "229/229 [==============================] - ETA: 0s - loss: 0.6580\n",
            "Epoch 49: loss improved from 0.66321 to 0.65805, saving model to saved_weights/saved_weights-49-0.6580.hdf5\n",
            "229/229 [==============================] - 40s 174ms/step - loss: 0.6580\n",
            "Epoch 50/50\n",
            "229/229 [==============================] - ETA: 0s - loss: 0.6496\n",
            "Epoch 50: loss improved from 0.65805 to 0.64964, saving model to saved_weights/saved_weights-50-0.6496.hdf5\n",
            "229/229 [==============================] - 39s 170ms/step - loss: 0.6496\n"
          ]
        }
      ]
    },
    {
      "cell_type": "code",
      "source": [
        "from matplotlib import pyplot as plt"
      ],
      "metadata": {
        "id": "iB_XLpuaXETO"
      },
      "execution_count": null,
      "outputs": []
    },
    {
      "cell_type": "code",
      "source": [
        "#plot the training and validation accuracy and loss at each epoch\n",
        "loss = history.history['loss']\n",
        "epochs = range(1, len(loss)+1)\n",
        "plt.plot(epochs, loss, 'y', label = 'Training loss')\n",
        "plt.title('Training loss')\n",
        "plt.xlabel('Epochs')\n",
        "plt.ylabel('Loss')\n",
        "plt.legend()\n",
        "plt.show()"
      ],
      "metadata": {
        "colab": {
          "base_uri": "https://localhost:8080/",
          "height": 295
        },
        "id": "OylMKyIzXJvo",
        "outputId": "b4903199-534c-48f8-ad31-7d52474e6de2"
      },
      "execution_count": null,
      "outputs": [
        {
          "output_type": "display_data",
          "data": {
            "text/plain": [
              "<Figure size 432x288 with 1 Axes>"
            ],
            "image/png": "[encoded data removed]"
          },
          "metadata": {
            "needs_background": "light"
          }
        }
      ]
    },
    {
      "cell_type": "code",
      "source": [
        "def sample(preds):\n",
        "  preds = np.asarray(preds).astype('float64')\n",
        "  preds = np.log(preds)\n",
        "  exp_preds = np.exp(preds)\n",
        "  preds = exp_preds / np.sum(exp_preds)\n",
        "  probas = np.random.multinomial(1, preds, 1)\n",
        "  return np.argmax(probas)"
      ],
      "metadata": {
        "id": "6VC0AurAX-cz"
      },
      "execution_count": null,
      "outputs": []
    },
    {
      "cell_type": "code",
      "source": [
        "#Prediction\n",
        "# load the network weights\n",
        "filename = \"my_saved_weights_jungle_book_50epochs.h5\"\n",
        "model.load_weights(filename)"
      ],
      "metadata": {
        "id": "wzc-HoYsYgRY"
      },
      "execution_count": null,
      "outputs": []
    },
    {
      "cell_type": "code",
      "source": [
        "start_index = random.randint(0, n_chars - seq_length -1)"
      ],
      "metadata": {
        "id": "4Uvo9FuiYsol"
      },
      "execution_count": null,
      "outputs": []
    },
    {
      "cell_type": "code",
      "source": [
        "#Initiate generated text and keep adding new predictions and print them out\n",
        "generated = ''\n",
        "sentence = raw_text[start_index: start_index + seq_length]\n",
        "generated += sentence\n",
        "\n",
        "print('----- Seed for our text prediction: \"' + sentence + '\"')"
      ],
      "metadata": {
        "colab": {
          "base_uri": "https://localhost:8080/"
        },
        "id": "AociUPDBY3HI",
        "outputId": "28549be8-d700-4907-887d-f74d0adc6517"
      },
      "execution_count": null,
      "outputs": [
        {
          "output_type": "stream",
          "name": "stdout",
          "text": [
            "----- Seed for our text prediction: \"al makes a\n",
            "slow mongoose, and if he wanted all his strength \"\n"
          ]
        }
      ]
    },
    {
      "cell_type": "code",
      "source": [
        "for i in range(400):   # Number of characters including spaces\n",
        "    x_pred = np.zeros((1, seq_length, n_vocab))\n",
        "    for t, char in enumerate(sentence):\n",
        "        x_pred[0, t, char_to_int[char]] = 1.\n",
        "\n",
        "    preds = model.predict(x_pred, verbose=0)[0]\n",
        "    next_index = sample(preds)\n",
        "    next_char = int_to_char[next_index]\n",
        "\n",
        "    generated += next_char\n",
        "    sentence = sentence[1:] + next_char\n",
        "\n",
        "    sys.stdout.write(next_char)\n",
        "    sys.stdout.flush()\n",
        "print()"
      ],
      "metadata": {
        "colab": {
          "base_uri": "https://localhost:8080/"
        },
        "id": "u4-fbe8gY9HU",
        "outputId": "e8c873ca-31fc-4a47-dbed-eb7bd7265f48"
      },
      "execution_count": null,
      "outputs": [
        {
          "output_type": "stream",
          "name": "stdout",
          "text": [
            "e villager folvound to the great shemplying see his upfralm no, regs following; and thood and the\n",
            "for may and saw unces, looked in the madry of the onwa’s of the\n",
            "feet even shopes in his time with themorme they call, in and coulder\n",
            "for muft hear by parght ug . they i stook of the\n",
            "project gutenberg-tm wothents his mother seeld”s,\n",
            "     as they.”\n",
            "\n",
            "ake any old you read, with the dory makk flow foot\n",
            "\n",
            "ye\n"
          ]
        }
      ]
    }
  ]
}